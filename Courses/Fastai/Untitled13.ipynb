{
  "nbformat": 4,
  "nbformat_minor": 0,
  "metadata": {
    "colab": {
      "name": "Untitled13.ipynb",
      "provenance": [],
      "collapsed_sections": []
    },
    "kernelspec": {
      "name": "python3",
      "display_name": "Python 3"
    },
    "accelerator": "GPU"
  },
  "cells": [
    {
      "cell_type": "code",
      "metadata": {
        "id": "Em0U23x2n3he",
        "colab_type": "code",
        "colab": {}
      },
      "source": [
        "%reload_ext autoreload\n",
        "%autoreload 2\n",
        "%matplotlib inline"
      ],
      "execution_count": 0,
      "outputs": []
    },
    {
      "cell_type": "code",
      "metadata": {
        "colab_type": "code",
        "id": "r0xdF5OpqpaT",
        "colab": {}
      },
      "source": [
        "import pandas as pd\n",
        "import numpy as np\n",
        "import torch\n",
        "import torch.nn as nn\n",
        "from sklearn.preprocessing import StandardScaler\n",
        "from sklearn.model_selection import train_test_split\n",
        "import torch.nn.functional as F"
      ],
      "execution_count": 0,
      "outputs": []
    },
    {
      "cell_type": "code",
      "metadata": {
        "colab_type": "code",
        "id": "cihfhNm8_fw5",
        "colab": {}
      },
      "source": [
        "class model1_relu(nn.Module):\n",
        "  \n",
        "  def __init__(self,n,h1,h2,h3,m):\n",
        "    super().__init__()\n",
        "    self.linear1 = nn.Linear(n,h1)\n",
        "    self.linear2 = nn.Linear(h1,h2)\n",
        "    self.linear3 = nn.Linear(h2,h3)\n",
        "    self.linear4 = nn.Linear(h3,m)\n",
        "  \n",
        "  def forward(self,x):\n",
        "    x = F.relu(self.linear1(x))\n",
        "    x = F.relu(self.linear2(x))\n",
        "    x = F.relu(self.linear3(x))\n",
        "    x = self.linear4(x)\n",
        "    return x\n",
        "\n"
      ],
      "execution_count": 0,
      "outputs": []
    },
    {
      "cell_type": "code",
      "metadata": {
        "colab_type": "code",
        "id": "5eUOE6VO_gNl",
        "colab": {}
      },
      "source": [
        "class model1(nn.Module):\n",
        "  \n",
        "  def __init__(self,n,h1,h2,h3,m):\n",
        "    super().__init__()\n",
        "    self.linear1 = nn.Linear(n,h1)\n",
        "    self.linear2 = nn.Linear(h1,h2)\n",
        "    self.linear3 = nn.Linear(h2,h3)\n",
        "    self.linear4 = nn.Linear(h3,m)\n",
        "  \n",
        "  def forward(self,x):\n",
        "    x = torch.sigmoid(self.linear1(x))\n",
        "    x = torch.sigmoid(self.linear2(x))\n",
        "    x = torch.sigmoid(self.linear3(x))\n",
        "    x = self.linear4(x)\n",
        "    return x\n"
      ],
      "execution_count": 0,
      "outputs": []
    },
    {
      "cell_type": "code",
      "metadata": {
        "id": "KWdJg_yN_mrr",
        "colab_type": "code",
        "colab": {}
      },
      "source": [
        "class model2(nn.Module):\n",
        "  \n",
        "  def __init__(self,n,h1,h2,m):\n",
        "    super().__init__()\n",
        "    self.linear1 = nn.Linear(n,h1)\n",
        "    self.linear2 = nn.Linear(h1,h2)\n",
        "    self.linear3 = nn.Linear(h2,m)\n",
        "    \n",
        "  \n",
        "  def forward(self,x):\n",
        "    x = torch.sigmoid(self.linear1(x))\n",
        "    x = torch.sigmoid(self.linear2(x))\n",
        "    x = self.linear3(x)\n",
        "    return x\n"
      ],
      "execution_count": 0,
      "outputs": []
    },
    {
      "cell_type": "code",
      "metadata": {
        "id": "Xh7wLOvo_6I6",
        "colab_type": "code",
        "colab": {}
      },
      "source": [
        "class model2_relu(nn.Module):\n",
        "  \n",
        "  def __init__(self,n,h1,h2,m):\n",
        "    super().__init__()\n",
        "    self.linear1 = nn.Linear(n,h1)\n",
        "    self.linear2 = nn.Linear(h1,h2)\n",
        "    self.linear3 = nn.Linear(h2,m)\n",
        "    \n",
        "  \n",
        "  def forward(self,x):\n",
        "    x = F.relu(self.linear1(x))\n",
        "    x = F.relu(self.linear2(x))\n",
        "    x = self.linear3(x)\n",
        "    return"
      ],
      "execution_count": 0,
      "outputs": []
    },
    {
      "cell_type": "code",
      "metadata": {
        "id": "YoV-PbeiAFcz",
        "colab_type": "code",
        "colab": {}
      },
      "source": [
        "epoch = 1000"
      ],
      "execution_count": 0,
      "outputs": []
    },
    {
      "cell_type": "code",
      "metadata": {
        "id": "SBSRPd05DwF-",
        "colab_type": "code",
        "colab": {}
      },
      "source": [
        "model_a = model1(6,4,3,2,1)\n",
        "model_ar = model1_relu(6,4,3,2,1)\n",
        "model_b = model1(6,7,6,4,1)\n",
        "model_br = model1_relu(6,7,6,4,1)\n",
        "model_c = model2(6,3,3,1)\n",
        "model_cr = model2_relu(6,3,3,1)\n",
        "model_d = model2(6,6,4,1)\n",
        "model_dr = model2_relu(6,6,4,1)\n",
        "model_e = model2(6,7,3,1)\n",
        "model_er = model2_relu(6,7,3,1)"
      ],
      "execution_count": 0,
      "outputs": []
    },
    {
      "cell_type": "code",
      "metadata": {
        "id": "zxcYJoccFiP_",
        "colab_type": "code",
        "colab": {}
      },
      "source": [
        "models = [model_a,model_ar,model_b,model_br,model_c,model_cr,model_d,model_dr,model_e,model_er]"
      ],
      "execution_count": 0,
      "outputs": []
    },
    {
      "cell_type": "code",
      "metadata": {
        "id": "F9h7RVEOFxIm",
        "colab_type": "code",
        "colab": {}
      },
      "source": [
        "df = pd.read_excel('NADEEM BHAI.xlsx')"
      ],
      "execution_count": 0,
      "outputs": []
    },
    {
      "cell_type": "code",
      "metadata": {
        "id": "9C4VFdfJFybW",
        "colab_type": "code",
        "colab": {
          "base_uri": "https://localhost:8080/",
          "height": 196
        },
        "outputId": "7f2b638a-d49e-442f-bb4e-8f7e6eaa3cf1"
      },
      "source": [
        "df.head()"
      ],
      "execution_count": 18,
      "outputs": [
        {
          "output_type": "execute_result",
          "data": {
            "text/html": [
              "<div>\n",
              "<style scoped>\n",
              "    .dataframe tbody tr th:only-of-type {\n",
              "        vertical-align: middle;\n",
              "    }\n",
              "\n",
              "    .dataframe tbody tr th {\n",
              "        vertical-align: top;\n",
              "    }\n",
              "\n",
              "    .dataframe thead th {\n",
              "        text-align: right;\n",
              "    }\n",
              "</style>\n",
              "<table border=\"1\" class=\"dataframe\">\n",
              "  <thead>\n",
              "    <tr style=\"text-align: right;\">\n",
              "      <th></th>\n",
              "      <th>CDMI</th>\n",
              "      <th>HI</th>\n",
              "      <th>DI</th>\n",
              "      <th>N2</th>\n",
              "      <th>Ro</th>\n",
              "      <th>Depth</th>\n",
              "      <th>O1</th>\n",
              "      <th>O2</th>\n",
              "      <th>O3</th>\n",
              "    </tr>\n",
              "  </thead>\n",
              "  <tbody>\n",
              "    <tr>\n",
              "      <th>0</th>\n",
              "      <td>1.089511</td>\n",
              "      <td>41.155556</td>\n",
              "      <td>0.976278</td>\n",
              "      <td>4.2</td>\n",
              "      <td>1.75</td>\n",
              "      <td>1002.00</td>\n",
              "      <td>-27.6</td>\n",
              "      <td>-24.7</td>\n",
              "      <td>-152.00</td>\n",
              "    </tr>\n",
              "    <tr>\n",
              "      <th>1</th>\n",
              "      <td>8.200000</td>\n",
              "      <td>399.130435</td>\n",
              "      <td>0.997501</td>\n",
              "      <td>0.0</td>\n",
              "      <td>0.95</td>\n",
              "      <td>393.46</td>\n",
              "      <td>-55.5</td>\n",
              "      <td>-9.8</td>\n",
              "      <td>-198.50</td>\n",
              "    </tr>\n",
              "    <tr>\n",
              "      <th>2</th>\n",
              "      <td>4.569349</td>\n",
              "      <td>103.736264</td>\n",
              "      <td>0.990452</td>\n",
              "      <td>0.0</td>\n",
              "      <td>1.27</td>\n",
              "      <td>10.00</td>\n",
              "      <td>-49.5</td>\n",
              "      <td>-8.5</td>\n",
              "      <td>-176.13</td>\n",
              "    </tr>\n",
              "    <tr>\n",
              "      <th>3</th>\n",
              "      <td>14.662273</td>\n",
              "      <td>8.652561</td>\n",
              "      <td>0.896401</td>\n",
              "      <td>0.0</td>\n",
              "      <td>1.30</td>\n",
              "      <td>1287.56</td>\n",
              "      <td>-27.9</td>\n",
              "      <td>-3.7</td>\n",
              "      <td>-165.50</td>\n",
              "    </tr>\n",
              "    <tr>\n",
              "      <th>4</th>\n",
              "      <td>4.027778</td>\n",
              "      <td>863.750000</td>\n",
              "      <td>0.998844</td>\n",
              "      <td>27.9</td>\n",
              "      <td>2.23</td>\n",
              "      <td>805.00</td>\n",
              "      <td>-28.0</td>\n",
              "      <td>-24.8</td>\n",
              "      <td>-162.00</td>\n",
              "    </tr>\n",
              "  </tbody>\n",
              "</table>\n",
              "</div>"
            ],
            "text/plain": [
              "        CDMI          HI        DI    N2    Ro    Depth    O1    O2      O3\n",
              "0   1.089511   41.155556  0.976278   4.2  1.75  1002.00 -27.6 -24.7 -152.00\n",
              "1   8.200000  399.130435  0.997501   0.0  0.95   393.46 -55.5  -9.8 -198.50\n",
              "2   4.569349  103.736264  0.990452   0.0  1.27    10.00 -49.5  -8.5 -176.13\n",
              "3  14.662273    8.652561  0.896401   0.0  1.30  1287.56 -27.9  -3.7 -165.50\n",
              "4   4.027778  863.750000  0.998844  27.9  2.23   805.00 -28.0 -24.8 -162.00"
            ]
          },
          "metadata": {
            "tags": []
          },
          "execution_count": 18
        }
      ]
    },
    {
      "cell_type": "code",
      "metadata": {
        "id": "e4s8PnTiGPmC",
        "colab_type": "code",
        "colab": {
          "base_uri": "https://localhost:8080/",
          "height": 196
        },
        "outputId": "73174e36-be97-4e2c-cf6c-8ad6aee22fd7"
      },
      "source": [
        "df_x = df[['CDMI','HI','DI','N2','Ro','Depth']]\n",
        "df_x.head()"
      ],
      "execution_count": 22,
      "outputs": [
        {
          "output_type": "execute_result",
          "data": {
            "text/html": [
              "<div>\n",
              "<style scoped>\n",
              "    .dataframe tbody tr th:only-of-type {\n",
              "        vertical-align: middle;\n",
              "    }\n",
              "\n",
              "    .dataframe tbody tr th {\n",
              "        vertical-align: top;\n",
              "    }\n",
              "\n",
              "    .dataframe thead th {\n",
              "        text-align: right;\n",
              "    }\n",
              "</style>\n",
              "<table border=\"1\" class=\"dataframe\">\n",
              "  <thead>\n",
              "    <tr style=\"text-align: right;\">\n",
              "      <th></th>\n",
              "      <th>CDMI</th>\n",
              "      <th>HI</th>\n",
              "      <th>DI</th>\n",
              "      <th>N2</th>\n",
              "      <th>Ro</th>\n",
              "      <th>Depth</th>\n",
              "    </tr>\n",
              "  </thead>\n",
              "  <tbody>\n",
              "    <tr>\n",
              "      <th>0</th>\n",
              "      <td>1.089511</td>\n",
              "      <td>41.155556</td>\n",
              "      <td>0.976278</td>\n",
              "      <td>4.2</td>\n",
              "      <td>1.75</td>\n",
              "      <td>1002.00</td>\n",
              "    </tr>\n",
              "    <tr>\n",
              "      <th>1</th>\n",
              "      <td>8.200000</td>\n",
              "      <td>399.130435</td>\n",
              "      <td>0.997501</td>\n",
              "      <td>0.0</td>\n",
              "      <td>0.95</td>\n",
              "      <td>393.46</td>\n",
              "    </tr>\n",
              "    <tr>\n",
              "      <th>2</th>\n",
              "      <td>4.569349</td>\n",
              "      <td>103.736264</td>\n",
              "      <td>0.990452</td>\n",
              "      <td>0.0</td>\n",
              "      <td>1.27</td>\n",
              "      <td>10.00</td>\n",
              "    </tr>\n",
              "    <tr>\n",
              "      <th>3</th>\n",
              "      <td>14.662273</td>\n",
              "      <td>8.652561</td>\n",
              "      <td>0.896401</td>\n",
              "      <td>0.0</td>\n",
              "      <td>1.30</td>\n",
              "      <td>1287.56</td>\n",
              "    </tr>\n",
              "    <tr>\n",
              "      <th>4</th>\n",
              "      <td>4.027778</td>\n",
              "      <td>863.750000</td>\n",
              "      <td>0.998844</td>\n",
              "      <td>27.9</td>\n",
              "      <td>2.23</td>\n",
              "      <td>805.00</td>\n",
              "    </tr>\n",
              "  </tbody>\n",
              "</table>\n",
              "</div>"
            ],
            "text/plain": [
              "        CDMI          HI        DI    N2    Ro    Depth\n",
              "0   1.089511   41.155556  0.976278   4.2  1.75  1002.00\n",
              "1   8.200000  399.130435  0.997501   0.0  0.95   393.46\n",
              "2   4.569349  103.736264  0.990452   0.0  1.27    10.00\n",
              "3  14.662273    8.652561  0.896401   0.0  1.30  1287.56\n",
              "4   4.027778  863.750000  0.998844  27.9  2.23   805.00"
            ]
          },
          "metadata": {
            "tags": []
          },
          "execution_count": 22
        }
      ]
    },
    {
      "cell_type": "code",
      "metadata": {
        "id": "WVYZQEU4GuYg",
        "colab_type": "code",
        "colab": {}
      },
      "source": [
        "X = df_x.to_numpy()"
      ],
      "execution_count": 0,
      "outputs": []
    },
    {
      "cell_type": "code",
      "metadata": {
        "id": "kueKW9pRHDFZ",
        "colab_type": "code",
        "colab": {
          "base_uri": "https://localhost:8080/",
          "height": 33
        },
        "outputId": "1c6921e6-d46f-48f9-fa48-05b7dec20b49"
      },
      "source": [
        "X.shape,df_x.shape"
      ],
      "execution_count": 24,
      "outputs": [
        {
          "output_type": "execute_result",
          "data": {
            "text/plain": [
              "((341, 6), (341, 6))"
            ]
          },
          "metadata": {
            "tags": []
          },
          "execution_count": 24
        }
      ]
    },
    {
      "cell_type": "code",
      "metadata": {
        "id": "wbDZqmdtHE81",
        "colab_type": "code",
        "colab": {
          "base_uri": "https://localhost:8080/",
          "height": 196
        },
        "outputId": "90dd39d4-a98d-40b6-f8d4-6a7598fff4ed"
      },
      "source": [
        "df_y1 = df[['O1']]\n",
        "df_y2 = df[['O2']]\n",
        "df_y3 = df[['O3']]\n",
        "df_y3.head()"
      ],
      "execution_count": 26,
      "outputs": [
        {
          "output_type": "execute_result",
          "data": {
            "text/html": [
              "<div>\n",
              "<style scoped>\n",
              "    .dataframe tbody tr th:only-of-type {\n",
              "        vertical-align: middle;\n",
              "    }\n",
              "\n",
              "    .dataframe tbody tr th {\n",
              "        vertical-align: top;\n",
              "    }\n",
              "\n",
              "    .dataframe thead th {\n",
              "        text-align: right;\n",
              "    }\n",
              "</style>\n",
              "<table border=\"1\" class=\"dataframe\">\n",
              "  <thead>\n",
              "    <tr style=\"text-align: right;\">\n",
              "      <th></th>\n",
              "      <th>O3</th>\n",
              "    </tr>\n",
              "  </thead>\n",
              "  <tbody>\n",
              "    <tr>\n",
              "      <th>0</th>\n",
              "      <td>-152.00</td>\n",
              "    </tr>\n",
              "    <tr>\n",
              "      <th>1</th>\n",
              "      <td>-198.50</td>\n",
              "    </tr>\n",
              "    <tr>\n",
              "      <th>2</th>\n",
              "      <td>-176.13</td>\n",
              "    </tr>\n",
              "    <tr>\n",
              "      <th>3</th>\n",
              "      <td>-165.50</td>\n",
              "    </tr>\n",
              "    <tr>\n",
              "      <th>4</th>\n",
              "      <td>-162.00</td>\n",
              "    </tr>\n",
              "  </tbody>\n",
              "</table>\n",
              "</div>"
            ],
            "text/plain": [
              "       O3\n",
              "0 -152.00\n",
              "1 -198.50\n",
              "2 -176.13\n",
              "3 -165.50\n",
              "4 -162.00"
            ]
          },
          "metadata": {
            "tags": []
          },
          "execution_count": 26
        }
      ]
    },
    {
      "cell_type": "code",
      "metadata": {
        "id": "qngDIIG_HbCZ",
        "colab_type": "code",
        "colab": {}
      },
      "source": [
        "y1 = df_y1.to_numpy()\n",
        "y2 = df_y2.to_numpy()\n",
        "y3 = df_y3.to_numpy()"
      ],
      "execution_count": 0,
      "outputs": []
    },
    {
      "cell_type": "code",
      "metadata": {
        "id": "lmjbSv1RRvBM",
        "colab_type": "code",
        "colab": {}
      },
      "source": [
        "scaler = StandardScaler()"
      ],
      "execution_count": 0,
      "outputs": []
    },
    {
      "cell_type": "code",
      "metadata": {
        "id": "2QXq29vAR0zM",
        "colab_type": "code",
        "colab": {}
      },
      "source": [
        "X = scaler.fit_transform(X)"
      ],
      "execution_count": 0,
      "outputs": []
    },
    {
      "cell_type": "code",
      "metadata": {
        "id": "x9ySpMViH6sd",
        "colab_type": "code",
        "colab": {}
      },
      "source": [
        "X_train,X_test,y_train_1,y_test_1 = train_test_split(X,y1,test_size=0.2,random_state=42)\n",
        "X_train,X_test,y_train_2,y_test_2 = train_test_split(X,y2,test_size=0.2,random_state=42)\n",
        "X_train,X_test,y_train_3,y_test_3 = train_test_split(X,y3,test_size=0.2,random_state=42)\n"
      ],
      "execution_count": 0,
      "outputs": []
    },
    {
      "cell_type": "code",
      "metadata": {
        "id": "GNq935a7IhFv",
        "colab_type": "code",
        "colab": {
          "base_uri": "https://localhost:8080/",
          "height": 33
        },
        "outputId": "3d950d3e-5abe-484a-c88c-78fed0c6b6dd"
      },
      "source": [
        "X_train.shape,X_test.shape"
      ],
      "execution_count": 61,
      "outputs": [
        {
          "output_type": "execute_result",
          "data": {
            "text/plain": [
              "((272, 6), (69, 6))"
            ]
          },
          "metadata": {
            "tags": []
          },
          "execution_count": 61
        }
      ]
    },
    {
      "cell_type": "code",
      "metadata": {
        "id": "9KjeC98AKwrj",
        "colab_type": "code",
        "colab": {}
      },
      "source": [
        "files = [X_train,]\n",
        "X_train = torch.Tensor(X_train)\n",
        "X_test = torch.Tensor(X_test)\n",
        "y_train_1 = torch.Tensor(y_train_1)\n",
        "y_train_2 = torch.Tensor(y_train_2)\n",
        "y_train_3 = torch.Tensor(y_train_3)\n",
        "y_test_1 = torch.Tensor(y_test_1)\n",
        "y_test_2 = torch.Tensor(y_test_2)\n",
        "y_test_3 = torch.Tensor(y_test_3)"
      ],
      "execution_count": 0,
      "outputs": []
    },
    {
      "cell_type": "code",
      "metadata": {
        "id": "Hze0ogBNLZsj",
        "colab_type": "code",
        "colab": {
          "base_uri": "https://localhost:8080/",
          "height": 33
        },
        "outputId": "bcaba64d-5f42-4774-c516-1c8a8f2b9848"
      },
      "source": [
        "X_train.shape"
      ],
      "execution_count": 63,
      "outputs": [
        {
          "output_type": "execute_result",
          "data": {
            "text/plain": [
              "torch.Size([272, 6])"
            ]
          },
          "metadata": {
            "tags": []
          },
          "execution_count": 63
        }
      ]
    },
    {
      "cell_type": "code",
      "metadata": {
        "id": "UrVPKL0JRO42",
        "colab_type": "code",
        "colab": {}
      },
      "source": [
        ""
      ],
      "execution_count": 0,
      "outputs": []
    },
    {
      "cell_type": "code",
      "metadata": {
        "id": "QICDqAm7KMJD",
        "colab_type": "code",
        "colab": {}
      },
      "source": [
        "optim = torch.optim.Adam(model_br.parameters(),lr=0.1)\n",
        "criterion = nn.MSELoss()"
      ],
      "execution_count": 0,
      "outputs": []
    },
    {
      "cell_type": "code",
      "metadata": {
        "id": "I5KQI7bHYjGm",
        "colab_type": "code",
        "colab": {}
      },
      "source": [
        ""
      ],
      "execution_count": 0,
      "outputs": []
    },
    {
      "cell_type": "code",
      "metadata": {
        "id": "CwiaPwgMInI0",
        "colab_type": "code",
        "colab": {}
      },
      "source": [
        "for i in range(epoch):\n",
        "  preds_tr = model_br(X_train)\n",
        "  preds_val = model_br(X_test)\n",
        "  tr_loss = criterion(preds_tr,y_train_1)\n",
        "  optim.zero_grad()\n",
        "  tr_loss.backward()\n",
        "  optim.step()\n",
        "  val_loss = criterion(preds_val,y_test_1)\n",
        "  if ((i+1)%20 == 0 or i ==0):\n",
        "    print(\"Epoch : \",i+1,\"\\t Train Loss : \",tr_loss,\"\\t Val Loss : \",val_loss)\n",
        "\n",
        "  \n"
      ],
      "execution_count": 0,
      "outputs": []
    },
    {
      "cell_type": "code",
      "metadata": {
        "id": "jocJSa69Jq3-",
        "colab_type": "code",
        "colab": {}
      },
      "source": [
        ""
      ],
      "execution_count": 0,
      "outputs": []
    }
  ]
}